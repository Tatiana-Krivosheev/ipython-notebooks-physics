{
 "metadata": {
  "name": "",
  "signature": "sha256:c8f331dfcac9cece8daec4ac0ecedd6e63b792cc34a2911afa1d88f646373747"
 },
 "nbformat": 3,
 "nbformat_minor": 0,
 "worksheets": [
  {
   "cells": [
    {
     "cell_type": "heading",
     "level": 1,
     "metadata": {},
     "source": [
      "PHYS 2212L - Principles of Physics Laboratory II\n"
     ]
    },
    {
     "cell_type": "heading",
     "level": 1,
     "metadata": {},
     "source": [
      "Capacitors"
     ]
    },
    {
     "cell_type": "heading",
     "level": 3,
     "metadata": {},
     "source": [
      "Objectives."
     ]
    },
    {
     "cell_type": "raw",
     "metadata": {},
     "source": [
      "The objectives of this laboratory are\n",
      "a. to verify the functional dependaence of capacitance on plate spacing for a parallel plate capacitor, and\n",
      "b. to measure the dialectric constant of paper."
     ]
    },
    {
     "cell_type": "heading",
     "level": 3,
     "metadata": {},
     "source": [
      "Theory."
     ]
    },
    {
     "cell_type": "heading",
     "level": 4,
     "metadata": {},
     "source": [
      " a. General. "
     ]
    },
    {
     "cell_type": "raw",
     "metadata": {},
     "source": [
      "\n",
      "   a. The capacitance of a parallel plate capacitor with no material between its plates is given by\n",
      "\n",
      "where C0 is he capacitance without any material between its plates,\n",
      "epsilon0 is the permittivity of free space (8.8542 x 10-12 C2/(Nm2),\n",
      "A is the surface area of a plate of the capacitor, and\n",
      "d is the separation distance between the plates.\n",
      "\n",
      "    b. The capacitance of a parallel plate capacitor with a dialectric material filling the region between its plates is given by \n",
      "C=kappaC0 = kappaepsilon0A/d\n",
      "\n",
      "where kappa is the dialectric constant for the material.\n",
      "c. In this experiment the plate area, A, is constant, while the plate separation distance, d, will be varied by inserting different thickness of dialectric material between the plates. From these measurements of A and d, the capacitance without dielectric present, C0, can be calculatedfrom euation (1). The capacitance, C, for each thicknesswill be measured. To accomplish the objectives of the experiment, two graphs will be constructed: \n",
      "1. A graph of capacitance, c, versus the reciprocal of the plate spacing, 1/d, should be a straight line (objective 1a).\n",
      "2. A graph of the capacitance with dielectric, C, versus capacitance without dielectric, C0, should be linear and have a slope of kappa, the dielectric constant (objective 1b).\n",
      "\n",
      "   "
     ]
    },
    {
     "cell_type": "heading",
     "level": 4,
     "metadata": {},
     "source": [
      " b. Model. "
     ]
    },
    {
     "cell_type": "raw",
     "metadata": {},
     "source": [
      "   The general expressions for the position of an object undergoing two-dimensional motion with constant acceleration are\n",
      "\n",
      "    x = x0 + v0xt + (1/2)axt2\n",
      "\n",
      "    y = y0 + v0yt + (1/2)ayt2\n",
      "\n",
      "        where\n",
      "        (x,y) is the position of the object at time t,\n",
      "        (x0,y0) is the initial position of the object (at time t = 0),\n",
      "        v0x and v0y are the x and y components of initial velocity of the object, and\n",
      "        ax and ay are the x and y components of the constant acceleration of the object.\n",
      "\n",
      "    For the case of a object set in motion near the surface of the Earth over short ranges and neglecting the effects of air resistance, the general expressions become\n",
      "\n",
      "    x = x0 + v0xt\n",
      "\n",
      "    y = y0 + v0yt - (1/2)gt2\n",
      "\n",
      "\n",
      "\n",
      "        where\n",
      "        x is the position measured along an axis horizontal to the ground in the plane of the trajectory,\n",
      "        y is the position measured along an vertical axis in the plane of the trajectory, and\n",
      "        g is the local value of the acceleration due to gravity. \n",
      "\n",
      "    The minus sign in the equation reflects the selection of the direction away from the center of the Earth as positive. The origin of the coordinate system is at the surface of the Earth.\n",
      "\n",
      "    Since the position of the object along the vertical axis at the time the object strikes the ground is zero (y = 0), the y-equation above can be solved for the time of flight of the projectile. This time can then be substituted into the x-equation to find the range of the projectile (the displacement along the x-axis to the point where the object strikes the ground).\n",
      "\n",
      "    The initial position of the projectile can be measured using a meter stick. The initial velocity will be determined by measuring the range when the projectile is given a purely horizontal initial velocity (vy0 = 0) by first solving for the time of flight in the y-equation and then substituting into the x-equation. If the projectile is then launched at some angle above the horizontal, the initial velocity of the projectile measured with the launcher horizontal can be used with the angle of inclination to predict the new range of the projectile using the same equations, but with\n",
      "\n",
      "    v0x = v0 cosq\n",
      "\n",
      "    v0y = v0 sinq\n",
      "\n",
      "        where\n",
      "        v0 is the initial speed measured with the launcher horizontal, and\n",
      "        q is the angle of inclination.\n",
      "\n",
      "    "
     ]
    },
    {
     "cell_type": "heading",
     "level": 4,
     "metadata": {},
     "source": [
      "c. Testing the model. "
     ]
    },
    {
     "cell_type": "raw",
     "metadata": {},
     "source": [
      "    The predicted range will be compared to the actual range measured with a meter stick."
     ]
    },
    {
     "cell_type": "heading",
     "level": 3,
     "metadata": {},
     "source": [
      " Apparatus and experimental procedures."
     ]
    },
    {
     "cell_type": "heading",
     "level": 4,
     "metadata": {},
     "source": [
      " a. Equipment."
     ]
    },
    {
     "cell_type": "raw",
     "metadata": {},
     "source": [
      "\n",
      "        1) Parallel plate capacitor with leads.\n",
      "\n",
      "        2) Caed stock paper.\n",
      "\n",
      "        3) Clothes pins.\n",
      "\n",
      "        4) Multimeter.micrometer and vernier caliper.\n",
      "\n",
      "        5) Ruler.\n"
     ]
    },
    {
     "cell_type": "heading",
     "level": 4,
     "metadata": {},
     "source": [
      "b. Experimental setup. To be provided by a stident."
     ]
    },
    {
     "cell_type": "raw",
     "metadata": {},
     "source": [
      "\n",
      "Figure 1. Experimental appartaus."
     ]
    },
    {
     "cell_type": "heading",
     "level": 4,
     "metadata": {},
     "source": [
      "c. Capabilities. To be provided by a student."
     ]
    },
    {
     "cell_type": "heading",
     "level": 4,
     "metadata": {},
     "source": [
      "\n",
      "d. Procedures. Detailed instructions are provided in paragraph  4 below.\n",
      "   "
     ]
    },
    {
     "cell_type": "heading",
     "level": 3,
     "metadata": {},
     "source": [
      "Requirements."
     ]
    },
    {
     "cell_type": "heading",
     "level": 4,
     "metadata": {},
     "source": [
      "a. In the laboratory."
     ]
    },
    {
     "cell_type": "raw",
     "metadata": {},
     "source": [
      "\n",
      "    \n",
      "\n",
      "        1) Your instructor will introduce you to the equipment to be used in the experiment.\n",
      "\n",
      "        2) Measurements to determine the plate area and thickness of a single sheet of the card stock will be made. \n",
      "\n",
      "        3) measurements of capacitance versus plate separation will be made.\n",
      "\n",
      "        4) Your instructor will discuss methods to be used to prepare your data.\n",
      "\n",
      "        \n",
      "\n",
      "  "
     ]
    },
    {
     "cell_type": "heading",
     "level": 4,
     "metadata": {},
     "source": [
      "b. After the laboratory.  "
     ]
    },
    {
     "cell_type": "raw",
     "metadata": {},
     "source": [
      " The items listed below will be turned in at the beginning of the next laboratory period. A complete laboratory report is not required for this laboratory. "
     ]
    },
    {
     "cell_type": "heading",
     "level": 3,
     "metadata": {},
     "source": [
      "Para. 4. Data and Calculations."
     ]
    },
    {
     "cell_type": "raw",
     "metadata": {},
     "source": [
      "\n",
      "\n",
      "    1) Provide your original data tables.\n",
      "\n",
      "    2) In your spreadsheet, provide data from your measurements.\n",
      "\n",
      "    3) In your spreadsheet, provide the following calculations:\n",
      "\n",
      "        a) The initial velocity of the projectile from the horizontally projected data.\n",
      "\n",
      "        b) The angle of the initial velocity when the projectile is set in motion at an angle.\n",
      "\n",
      "        c) The predicted range of the projectile when set in motion at the angle of your experiment.\n",
      "\n",
      "        d) The percent discrepancy between your measured results and your predictions for the case when the projectile is set in motion at an angle."
     ]
    },
    {
     "cell_type": "raw",
     "metadata": {},
     "source": [
      "Annex A\n",
      "Data Tables\n",
      "\n",
      "1. Projectile with horizontal initial velocity.\n",
      "\n",
      "    a. Initial position of bottom of projectile at release:\n",
      "\n",
      "            x0 = ________________________ m\n",
      "\n",
      "            y0 = ________________________ m\n",
      "\n",
      "            Assuming y = 0 is at the top of the lab table.\n",
      "\n",
      "    b. Range:\n",
      "\n",
      "trial\n",
      "\t\n",
      "\n",
      "range (m)\n",
      "\n",
      "1\n",
      "\t \n",
      "\n",
      "2\n",
      "\t \n",
      "\n",
      "3\n",
      "\t \n",
      "\n",
      "4\n",
      "\t \n",
      "\n",
      "5\n",
      "\t \n",
      "\n",
      "average\n",
      "\t \n",
      "\n",
      " \n",
      "\n",
      "2. Projectile with initial velocity at an angle.\n",
      "\n",
      "    a. Angle determination.\n",
      "\n",
      "            rise = ________________________ m\n",
      "\n",
      "            hypotenuse = ________________________ m\n",
      "\n",
      "    b. Initial position of bottom of projectile at release:\n",
      "\n",
      "            x0 = ________________________ m\n",
      "\n",
      "            y0 = ________________________ m\n",
      "\n",
      "    c. Range:\n",
      "\n",
      "trial\n",
      "\t\n",
      "\n",
      "range (m)\n",
      "\n",
      "1\n",
      "\t \n",
      "\n",
      "2\n",
      "\t \n",
      "\n",
      "3\n",
      "\t \n",
      "\n",
      "4\n",
      "\t \n",
      "\n",
      "5\n",
      "\t \n",
      "\n",
      "average\n",
      "\t \n"
     ]
    },
    {
     "cell_type": "code",
     "collapsed": false,
     "input": [
      "import \n",
      "import math\n",
      "import matplotlib\n",
      "import numpy as np\n",
      "import matplotlib.pyplot as plt\n",
      "%matplotlib inline  "
     ],
     "language": "python",
     "metadata": {},
     "outputs": [
      {
       "ename": "ImportError",
       "evalue": "No module named Markup",
       "output_type": "pyerr",
       "traceback": [
        "\u001b[0;31m---------------------------------------------------------------------------\u001b[0m\n\u001b[0;31mImportError\u001b[0m                               Traceback (most recent call last)",
        "\u001b[0;32m<ipython-input-6-abf6f5086397>\u001b[0m in \u001b[0;36m<module>\u001b[0;34m()\u001b[0m\n\u001b[0;32m----> 1\u001b[0;31m \u001b[0;32mimport\u001b[0m \u001b[0mMarkup\u001b[0m\u001b[0;34m\u001b[0m\u001b[0m\n\u001b[0m\u001b[1;32m      2\u001b[0m \u001b[0;32mimport\u001b[0m \u001b[0mmath\u001b[0m\u001b[0;34m\u001b[0m\u001b[0m\n\u001b[1;32m      3\u001b[0m \u001b[0;32mimport\u001b[0m \u001b[0mmatplotlib\u001b[0m\u001b[0;34m\u001b[0m\u001b[0m\n\u001b[1;32m      4\u001b[0m \u001b[0;32mimport\u001b[0m \u001b[0mnumpy\u001b[0m \u001b[0;32mas\u001b[0m \u001b[0mnp\u001b[0m\u001b[0;34m\u001b[0m\u001b[0m\n\u001b[1;32m      5\u001b[0m \u001b[0;32mimport\u001b[0m \u001b[0mmatplotlib\u001b[0m\u001b[0;34m.\u001b[0m\u001b[0mpyplot\u001b[0m \u001b[0;32mas\u001b[0m \u001b[0mplt\u001b[0m\u001b[0;34m\u001b[0m\u001b[0m\n",
        "\u001b[0;31mImportError\u001b[0m: No module named Markup"
       ]
      }
     ],
     "prompt_number": 6
    },
    {
     "cell_type": "code",
     "collapsed": false,
     "input": [
      "class ListTable(list):\n",
      "    \"\"\" Overridden list class which takes a 2-dimensional list of \n",
      "        the form [[1,2,3],[4,5,6]], and renders an HTML Table in \n",
      "        IPython Notebook. \"\"\"\n",
      "    \n",
      "    def _repr_html_(self):\n",
      "        html = [\"<table>\"]\n",
      "        for row in self:\n",
      "            html.append(\"<tr>\")\n",
      "            \n",
      "            for col in row:\n",
      "                html.append(\"<td>{0}</td>\".format(col))\n",
      "            \n",
      "            html.append(\"</tr>\")\n",
      "        html.append(\"</table>\")\n",
      "        return ''.join(html)\n",
      "table = ListTable()\n",
      "table.append(['trial', 'Range'])\n",
      "table.append(['   ', '(m)'])\n",
      "trial=[1,2,3,4,5]\n",
      "x = [0.95,0.96,0.95,0.96,0.99]\n",
      "y=0.0\n",
      "for i in range(0,len(x)):\n",
      "    xx = x[i]\n",
      "    ttrial = trial[i]\n",
      "    table.append([ttrial,xx])\n",
      "table    "
     ],
     "language": "python",
     "metadata": {},
     "outputs": [
      {
       "html": [
        "<table><tr><td>trial</td><td>Range</td></tr><tr><td>   </td><td>(m)</td></tr><tr><td>1</td><td>0.95</td></tr><tr><td>2</td><td>0.96</td></tr><tr><td>3</td><td>0.95</td></tr><tr><td>4</td><td>0.96</td></tr><tr><td>5</td><td>0.99</td></tr></table>"
       ],
       "metadata": {},
       "output_type": "pyout",
       "prompt_number": 27,
       "text": [
        "[['trial', 'Range'],\n",
        " ['   ', '(m)'],\n",
        " [1, 0.95],\n",
        " [2, 0.96],\n",
        " [3, 0.95],\n",
        " [4, 0.96],\n",
        " [5, 0.99]]"
       ]
      }
     ],
     "prompt_number": 27
    },
    {
     "cell_type": "code",
     "collapsed": false,
     "input": [
      "x0 = 0\n",
      "y0 = 0.09\n",
      "g=9.8\n",
      "x = [0.90,0.902,0.89,0.895,0.85]\n",
      "y = 0\n",
      "for i in range(0,len(x)):\n",
      "    y = y+x[i] \n",
      "xaverage = y/len(x)\n",
      "print 'xaverage =', xaverage, 'm'\n",
      "t=((2*y0)/g)**0.5\n",
      "print 't = ', t , 's'\n",
      "v0=xaverage/t\n",
      "print 'v0 = ', v0, 'm/s'\n"
     ],
     "language": "python",
     "metadata": {},
     "outputs": [
      {
       "output_type": "stream",
       "stream": "stdout",
       "text": [
        "xaverage = 0.8874 m\n",
        "t =  0.135526185436 s\n",
        "v0 =  6.54781212314 m/s\n"
       ]
      }
     ],
     "prompt_number": 54
    },
    {
     "cell_type": "code",
     "collapsed": false,
     "input": [
      "rise = 0.035\n",
      "hypotenuse = 0.4\n",
      "theta = math.atan(rise/hypotenuse)\n",
      "print 'theta=', theta"
     ],
     "language": "python",
     "metadata": {},
     "outputs": [
      {
       "output_type": "stream",
       "stream": "stdout",
       "text": [
        "theta= 0.0872777129495\n"
       ]
      }
     ],
     "prompt_number": 49
    },
    {
     "cell_type": "code",
     "collapsed": false,
     "input": [
      "table = ListTable()\n",
      "able = ListTable()\n",
      "table.append(['trial', 'Range'])\n",
      "table.append(['   ', '(m)'])\n",
      "trial=[1,2,3,4,5]\n",
      "x = [1.10,1.08,1.07,1.09,1.10]\n",
      "for i in range(0,len(x)):\n",
      "    xx = x[i] \n",
      "    ttrial = trial[i]\n",
      "    table.append([ttrial, xx])\n",
      "table    "
     ],
     "language": "python",
     "metadata": {},
     "outputs": [
      {
       "html": [
        "<table><tr><td>trial</td><td>Range</td></tr><tr><td>   </td><td>(m)</td></tr><tr><td>1</td><td>1.1</td></tr><tr><td>2</td><td>1.08</td></tr><tr><td>3</td><td>1.07</td></tr><tr><td>4</td><td>1.09</td></tr><tr><td>5</td><td>1.1</td></tr></table>"
       ],
       "metadata": {},
       "output_type": "pyout",
       "prompt_number": 39,
       "text": [
        "[['trial', 'Range'],\n",
        " ['   ', '(m)'],\n",
        " [1, 1.1],\n",
        " [2, 1.08],\n",
        " [3, 1.07],\n",
        " [4, 1.09],\n",
        " [5, 1.1]]"
       ]
      }
     ],
     "prompt_number": 39
    },
    {
     "cell_type": "code",
     "collapsed": false,
     "input": [
      "x0 = 0 \n",
      "y0 = 0.11\n",
      "y = 0\n",
      "for i in range(0,len(x)):\n",
      "    y = y+x[i] \n",
      "xaverage = y/len(x)\n",
      "print 'xaverage =', xaverage, 'm'\n",
      "t=(v0*math.sin(theta)+(v0*math.sin(theta)+2*g*y0)**0.5)/g\n",
      "print 't = ', t , 's'\n",
      "r = v0*math.cos(theta)*t \n",
      "print 'range = ', r, 's'\n",
      "Disc= (xaverage-r)/r*100\n",
      "print '%Disc = ', Disc"
     ],
     "language": "python",
     "metadata": {},
     "outputs": [
      {
       "output_type": "stream",
       "stream": "stdout",
       "text": [
        "5.44\n",
        "5\n",
        "xaverage = 1.088 m\n",
        "t =  0.233110895711 s\n",
        "range =  1.64838338729 s\n",
        "%Disc =  -33.9959375719\n"
       ]
      }
     ],
     "prompt_number": 43
    },
    {
     "cell_type": "heading",
     "level": 3,
     "metadata": {},
     "source": [
      "\n",
      "Para. 5. Results and Conclusions."
     ]
    },
    {
     "cell_type": "heading",
     "level": 4,
     "metadata": {},
     "source": [
      "a. Results."
     ]
    },
    {
     "cell_type": "raw",
     "metadata": {},
     "source": [
      "    1) A statement regarding the agreement or disagreement between the predicted and measured dependence of capacitance on plate separation distance for a parallel plate capacitor.\n",
      "\n",
      "    2) A statement of the measured value for the dialectric cosntant of paper and its uncertainty.\n",
      "   "
     ]
    },
    {
     "cell_type": "heading",
     "level": 4,
     "metadata": {},
     "source": [
      "\n",
      "b. Conclusions.\n"
     ]
    },
    {
     "cell_type": "raw",
     "metadata": {},
     "source": [
      "    1) An assessment of the accuracy and precision of your experiment. Use the value of the dielectric constant of paper given in your text for comparison purposes. Do not calculate a percent discrepancy. The actual value of the dielectric constant depends on the  specific type of paper being considered.\n",
      "\n",
      "    3) Description of the  sources of random and systematic error in the experiment."
     ]
    },
    {
     "cell_type": "code",
     "collapsed": false,
     "input": [],
     "language": "python",
     "metadata": {},
     "outputs": []
    }
   ],
   "metadata": {}
  }
 ]
}