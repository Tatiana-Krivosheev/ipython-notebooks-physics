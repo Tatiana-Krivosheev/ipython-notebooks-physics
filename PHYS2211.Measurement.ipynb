{
 "cells": [
  {
   "cell_type": "markdown",
   "metadata": {},
   "source": [
    "# PHYS 2211 - Introductory Physics Laboratory I"
   ]
  },
  {
   "cell_type": "markdown",
   "metadata": {},
   "source": [
    "# Measurement andError Propagation"
   ]
  },
  {
   "cell_type": "markdown",
   "metadata": {},
   "source": [
    "### Name: Tatiana Krivosheev"
   ]
  },
  {
   "cell_type": "markdown",
   "metadata": {},
   "source": [
    "### Partners: Oleg Krivosheev"
   ]
  },
  {
   "cell_type": "markdown",
   "metadata": {},
   "source": [
    "#### Annex A"
   ]
  },
  {
   "cell_type": "code",
   "execution_count": 31,
   "metadata": {
    "collapsed": false
   },
   "outputs": [],
   "source": [
    "import matplotlib\n",
    "import numpy as np\n",
    "import matplotlib.pyplot as plt\n",
    "import sympy \n",
    "%matplotlib inline  "
   ]
  },
  {
   "cell_type": "markdown",
   "metadata": {},
   "source": [
    "#### Annex A - Data and Calculations"
   ]
  },
  {
   "cell_type": "markdown",
   "metadata": {},
   "source": [
    "#### 1. Rectangular Block"
   ]
  },
  {
   "cell_type": "code",
   "execution_count": 27,
   "metadata": {
    "collapsed": false
   },
   "outputs": [],
   "source": [
    "class ListTable(list):\n",
    "    \"\"\" Overridden list class which takes a 2-dimensional list of \n",
    "        the form [[1,2,3],[4,5,6]], and renders an HTML Table in \n",
    "        IPython Notebook. \"\"\"\n",
    "    \n",
    "    def _repr_html_(self):\n",
    "        html = [\"<table>\"]\n",
    "        for row in self:\n",
    "            html.append(\"<tr>\")\n",
    "            \n",
    "            for col in row:\n",
    "                html.append(\"<td>{0}</td>\".format(col))\n",
    "            \n",
    "            html.append(\"</tr>\")\n",
    "        html.append(\"</table>\")\n",
    "        return ''.join(html)"
   ]
  },
  {
   "cell_type": "code",
   "execution_count": 39,
   "metadata": {
    "collapsed": false
   },
   "outputs": [
    {
     "data": {
      "text/plain": [
       "<matplotlib.text.Text at 0x7f84cbe28910>"
      ]
     },
     "execution_count": 39,
     "metadata": {},
     "output_type": "execute_result"
    },
    {
     "data": {
      "image/png": "[encoded data removed]",
      "text/plain": [
       "<matplotlib.figure.Figure at 0x7f84fc65f050>"
      ]
     },
     "metadata": {},
     "output_type": "display_data"
    }
   ],
   "source": [
    "# plain text\n",
    "plt.title('alpha > beta')"
   ]
  },
  {
   "cell_type": "code",
   "execution_count": 40,
   "metadata": {
    "collapsed": false
   },
   "outputs": [
    {
     "data": {
      "text/plain": [
       "<matplotlib.text.Text at 0x7f84c63e4a50>"
      ]
     },
     "execution_count": 40,
     "metadata": {},
     "output_type": "execute_result"
    },
    {
     "data": {
      "image/png": "[encoded data removed]",
      "text/plain": [
       "<matplotlib.figure.Figure at 0x7f84cbe06350>"
      ]
     },
     "metadata": {},
     "output_type": "display_data"
    }
   ],
   "source": [
    "# math text\n",
    "plt.title(r'$\\alpha > \\beta$')"
   ]
  },
  {
   "cell_type": "code",
   "execution_count": 50,
   "metadata": {
    "collapsed": false
   },
   "outputs": [
    {
     "data": {
      "image/png": "[encoded data removed]",
      "text/latex": [
       "$$\\frac{\\delta^{2}}{3}$$"
      ],
      "text/plain": [
       " 2\n",
       "δ \n",
       "──\n",
       "3 "
      ]
     },
     "execution_count": 50,
     "metadata": {},
     "output_type": "execute_result"
    }
   ],
   "source": [
    "from sympy import symbols, init_printing\n",
    "init_printing(use_latex=True)\n",
    "delta = symbols('delta')\n",
    "delta**2/3"
   ]
  },
  {
   "cell_type": "code",
   "execution_count": 53,
   "metadata": {
    "collapsed": false
   },
   "outputs": [
    {
     "data": {
      "text/html": [
       "<table><tr><td>measuring device</td><td>  </td><td>delta</td><td>w</td><td>delta w</td><td>h</td><td>delta h</td></tr><tr><td>  </td><td>(cm)</td><td>(cm)</td><td>(cm)</td><td>(cm)</td><td>(cm)</td><td>(cm)</td></tr><tr><td>ruler</td><td>4.9</td><td>0.1</td><td>2.5</td><td>0.1</td><td>1.2</td><td>0.1</td></tr><tr><td>vernier caliper</td><td>4.9</td><td>0.01</td><td>2.54</td><td>0.01</td><td>1.27</td><td>0.01</td></tr></table>"
      ],
      "text/plain": [
       "[['measuring device', '  ', 'delta', 'w', 'delta w', 'h', 'delta h'],\n",
       " ['  ', '(cm)', '(cm)', '(cm)', '(cm)', '(cm)', '(cm)'],\n",
       " ['ruler', 4.9, 0.1, 2.5, 0.1, 1.2, 0.1],\n",
       " ['vernier caliper', 4.9, 0.01, 2.54, 0.01, 1.27, 0.01]]"
      ]
     },
     "execution_count": 53,
     "metadata": {},
     "output_type": "execute_result"
    }
   ],
   "source": [
    "from sympy import symbols, init_printing\n",
    "init_printing(use_latex=True)\n",
    "delta = symbols('delta')\n",
    "table = ListTable()\n",
    "table.append(['measuring device', '  ', 'delta', 'w', 'delta w', 'h', 'delta h'])\n",
    "table.append(['  ', '(cm)', '(cm)', '(cm)','(cm)', '(cm)', '(cm)'])\n",
    "lr=4.9\n",
    "wr=2.5\n",
    "hr=1.2\n",
    "lc=4.90\n",
    "wc=2.54\n",
    "hc=1.27\n",
    "deltar=0.1\n",
    "deltac=0.01\n",
    "table.append(['ruler',lr, deltar, wr, deltar, hr, deltar])\n",
    "table.append(['vernier caliper', lc, deltac, wc, deltac, hc, deltac])\n",
    "table    "
   ]
  },
  {
   "cell_type": "code",
   "execution_count": 38,
   "metadata": {
    "collapsed": false
   },
   "outputs": [
    {
     "ename": "SyntaxError",
     "evalue": "unexpected character after line continuation character (<ipython-input-38-46bf251b1282>, line 1)",
     "output_type": "error",
     "traceback": [
      "\u001b[0;36m  File \u001b[0;32m\"<ipython-input-38-46bf251b1282>\"\u001b[0;36m, line \u001b[0;32m1\u001b[0m\n\u001b[0;31m    s(t) = \\mathcal{A}\\/\\sin(2 \\omega t)\u001b[0m\n\u001b[0m                                        ^\u001b[0m\n\u001b[0;31mSyntaxError\u001b[0m\u001b[0;31m:\u001b[0m unexpected character after line continuation character\n"
     ]
    }
   ],
   "source": [
    "s(t) = \\mathcal{A}\\/\\sin(2 \\omega t)"
   ]
  },
  {
   "cell_type": "code",
   "execution_count": 19,
   "metadata": {
    "collapsed": false
   },
   "outputs": [
    {
     "data": {
      "text/html": [
       "<table><tr><td>l</td><td>deltal</td><td>w</td><td>deltaw</td><td>h</td><td>deltah</td></tr><tr><td>(cm)</td><td>(cm)</td><td>(cm)</td><td>(cm)</td><td>(cm)</td><td>(cm)</td></tr><tr><td>4.9</td><td>4.9</td></tr><tr><td>0.1</td><td>0.01</td></tr><tr><td>2.5</td><td>2.54</td></tr><tr><td>0.1</td><td>0.01</td></tr><tr><td>1.2</td><td>1.27</td></tr><tr><td>0.1</td><td>0.01</td></tr></table>"
      ],
      "text/plain": [
       "[['l', 'deltal', 'w', 'deltaw', 'h', 'deltah'],\n",
       " ['(cm)', '(cm)', '(cm)', '(cm)', '(cm)', '(cm)'],\n",
       " [4.9, 4.9],\n",
       " [0.1, 0.01],\n",
       " [2.5, 2.54],\n",
       " [0.1, 0.01],\n",
       " [1.2, 1.27],\n",
       " [0.1, 0.01]]"
      ]
     },
     "execution_count": 19,
     "metadata": {},
     "output_type": "execute_result"
    }
   ],
   "source": [
    "table = ListTable()\n",
    "table.append(['l', 'deltal', 'w', 'deltaw', 'h', 'deltah'])\n",
    "table.append(['(cm)', '(cm)', '(cm)','(cm)', '(cm)', '(cm)'])\n",
    "lr=4.9\n",
    "wr=2.5\n",
    "hr=1.2\n",
    "lc=4.90\n",
    "wc=2.54\n",
    "hc=1.27\n",
    "deltar=0.1\n",
    "deltac=0.01\n",
    "for i in range(0,len(x)):\n",
    "    xx = x[i]\n",
    "    yy = y[i]\n",
    "    ttable.append([lr, deltar, wr, deltar, hr, deltar])able.append([lr, deltar, wr, deltar, hr, deltar])\n",
    "    \n",
    "table    "
   ]
  },
  {
   "cell_type": "code",
   "execution_count": 17,
   "metadata": {
    "collapsed": false
   },
   "outputs": [
    {
     "name": "stdout",
     "output_type": "stream",
     "text": [
      "m=0.0258164673413\n",
      "b=0.0491959521619\n"
     ]
    }
   ],
   "source": [
    "# code below demonstrates...\n",
    "\n",
    "import numpy as np\n",
    "x = [7,10,15,20,25,30,35, 40, 45, 50, 55, 60, 65, 70, 75, 80, 85, 90, 95]\n",
    "y= [0.228,0.298,0.441,0.568,0.697,0.826,0.956, 1.084, 1.211, 1.339,1.468, 1.599, 1.728, 1.851, 1.982, 2.115, 2.244, 2.375, 2.502]\n",
    "plt.scatter(x, y)\n",
    "plt.title('Linearity test')\n",
    "plt. xlabel('Length (cm)')\n",
    "plt. ylabel('Voltage (V)')\n",
    "fit = np.polyfit(x,y,1)\n",
    "fit_fn = np.poly1d(fit)\n",
    "plt.plot(x,y, 'yo', x, fit_fn(x), '--k')\n",
    "m,b = np.polyfit(x, y, 1)\n",
    "print ('m={0}'.format(m))\n",
    "print ('b={0}'.format(b))\n",
    "plt.show()"
   ]
  },
  {
   "cell_type": "markdown",
   "metadata": {},
   "source": [
    "#### 2. Wheatstone bridge measurements"
   ]
  },
  {
   "cell_type": "code",
   "execution_count": 82,
   "metadata": {
    "collapsed": false
   },
   "outputs": [
    {
     "data": {
      "text/html": [
       "<table><tr><td>Ru</td><td>Ru, acc</td><td>L1</td><td>L2</td><td>Ru, wheatstone</td><td>Disc</td></tr><tr><td>(kOhms)</td><td>(kOhms)</td><td>(cm)</td><td>(cm)</td><td>(kOhms)</td><td> % </td></tr><tr><td>0.47</td><td>0.512</td><td>88.65</td><td>11.35</td><td>0.448110547095</td><td>-12.4784087704</td></tr><tr><td>0.68</td><td>0.712</td><td>84.5</td><td>15.5</td><td>0.64201183432</td><td>-9.82979855063</td></tr><tr><td>1.0</td><td>1.131</td><td>76.9</td><td>23.1</td><td>1.05136540962</td><td>-7.04107784059</td></tr><tr><td>1.5</td><td>1.59</td><td>69.8</td><td>30.2</td><td>1.51432664756</td><td>-4.75933034186</td></tr></table>"
      ],
      "text/plain": [
       "[['Ru', 'Ru, acc', 'L1', 'L2', 'Ru, wheatstone', 'Disc'],\n",
       " ['(kOhms)', '(kOhms)', '(cm)', '(cm)', '(kOhms)', ' % '],\n",
       " [0.47,\n",
       "  0.512,\n",
       "  88.65,\n",
       "  11.349999999999994,\n",
       "  0.4481105470953184,\n",
       "  -12.478408770445629],\n",
       " [0.68, 0.712, 84.5, 15.5, 0.6420118343195266, -9.829798550628285],\n",
       " [1.0, 1.131, 76.9, 23.099999999999994, 1.0513654096228864, -7.0410778405936],\n",
       " [1.5, 1.59, 69.8, 30.200000000000003, 1.51432664756447, -4.759330341857231]]"
      ]
     },
     "execution_count": 82,
     "metadata": {},
     "output_type": "execute_result"
    }
   ],
   "source": [
    "Rk = 3.5 # kOhms\n",
    "table = ListTable()\n",
    "table.append(['Ru', 'Ru, acc', 'L1', 'L2', 'Ru, wheatstone', 'Disc'])\n",
    "table.append(['(kOhms)', '(kOhms)', '(cm)', '(cm)', '(kOhms)', ' % '])\n",
    "x = [0.470,0.680,1.000, 1.500]\n",
    "y= [0.512,0.712,1.131,1.590]\n",
    "z= [88.65, 84.50, 76.90, 69.80]\n",
    "for i in range(0,len(x)):\n",
    "    xx = x[i]\n",
    "    yy = y[i]\n",
    "    zz = z[i]\n",
    "    Rw = (100.0 - zz)/zz*Rk\n",
    "    Disc = (Rw-yy)/yy*100.0\n",
    "    table.append([xx, yy, zz, 100.0-zz,Rw, Disc])\n",
    "table    "
   ]
  },
  {
   "cell_type": "code",
   "execution_count": 6,
   "metadata": {
    "collapsed": false
   },
   "outputs": [],
   "source": [
    "x = [0.470,0.680,1.000, 1.500]\n",
    "y= [0.512,0.712,1.131,1.590]\n",
    "z= [88.65, 84.50, 76.90, 69.80]\n",
    "for i in range(0,len(x)):\n",
    "    xx = x[i]\n",
    "    yy = y[i]\n",
    "    zz = z[i]\n",
    "    Rw = (100.0 - zz)/zz*Rk\n",
    "    Disc = (Rw-yy)/yy*100.0\n",
    "\n",
    "plt.scatter(yy, Disc)\n",
    "plt.title('Discrepancy vs Resistance')\n",
    "plt. xlabel('Resistance (kOhms)')\n",
    "plt. ylabel('Discrepancy (%)')\n",
    "plt.show()"
   ]
  },
  {
   "cell_type": "code",
   "execution_count": null,
   "metadata": {
    "collapsed": false
   },
   "outputs": [],
   "source": []
  }
 ],
 "metadata": {
  "kernelspec": {
   "display_name": "Python 2",
   "language": "python",
   "name": "python2"
  },
  "language_info": {
   "codemirror_mode": {
    "name": "ipython",
    "version": 2
   },
   "file_extension": ".py",
   "mimetype": "text/x-python",
   "name": "python",
   "nbconvert_exporter": "python",
   "pygments_lexer": "ipython2",
   "version": "2.7.10"
  }
 },
 "nbformat": 4,
 "nbformat_minor": 0
}
