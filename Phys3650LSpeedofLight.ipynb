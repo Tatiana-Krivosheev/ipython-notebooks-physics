{
 "metadata": {
  "name": "",
  "signature": "sha256:f42933768d104e43c570c0506a093dd245084165bd4bc602a3adfbe470cc8e2d"
 },
 "nbformat": 3,
 "nbformat_minor": 0,
 "worksheets": [
  {
   "cells": [
    {
     "cell_type": "heading",
     "level": 1,
     "metadata": {},
     "source": [
      "  \n",
      " \n",
      " \n",
      "\n",
      "PHYS 3650L - Modern Physics Laboratory\n",
      "\n"
     ]
    },
    {
     "cell_type": "heading",
     "level": 2,
     "metadata": {},
     "source": [
      "Speed of Light\n"
     ]
    },
    {
     "cell_type": "heading",
     "level": 3,
     "metadata": {},
     "source": [
      "Objectives. "
     ]
    },
    {
     "cell_type": "code",
     "collapsed": false,
     "input": [
      "The objective of this laboratory is to use the Foucault method to measure the speed of light."
     ],
     "language": "python",
     "metadata": {},
     "outputs": []
    },
    {
     "cell_type": "heading",
     "level": 3,
     "metadata": {},
     "source": [
      "Theory."
     ]
    },
    {
     "cell_type": "heading",
     "level": 4,
     "metadata": {},
     "source": [
      " a. General. "
     ]
    },
    {
     "cell_type": "raw",
     "metadata": {},
     "source": [
      "\n",
      "       A method we will be using today was developed by Foucault in 1862. The diagram of the experimental setup is shown in Figure 1.  Imagine the rotating mirror MR stationary. Parallel beam of light from the laser is focused at point s by lens L1. Lens L2 is positioned so that the image point at s is reflected from the rotating mirror MR and is focused onto the fixed spherical mirror MF. Mirror MF reflects the light back along the same path to again focus the image at point s.  In order that the reflected point image can be viewed through the microscope, a beam splitter is placed in the optical path, so a reflected image of the returning light is also formed at point s'. Now, suppose that MR is rotated slightly so that the reflected beam strikes MF at a different point. Since the fixed mirror has spherical shape, the beam will still be reflected directly back toward MR. The return image of the source point will still be formed at points s and s'. The only significant difference in rotating MR by a slight amount is that the point of reflection on  MF changes. Now imagine that MR is rotating continuously at a very high speed. In this case, the return image of the source point will no longer be formed at points s and s'.  This is because, with  MR rotating, a light pulse traveling from MR to MF and back finds MR at a different angle when it returns when it was first reflected. Measuring the displacement of the image point caused by rotation of MR, the speed of light can be determined. Detailed analysis shows that the speed of light can be calculated by using the following formula:\n",
      "\n",
      "     \n",
      "    \t(1)\n",
      "\n",
      "    where\n",
      "\n",
      "        c is the speed of light,\n",
      "        w is the rotational speed of the rotating mirror \n",
      "        A is the distance between lens L2 and lens L1, minus the focal length of lens L1,\n",
      "\n",
      "        B is the distance between lens L2 and rotating mirror MR,\n",
      "\n",
      "        D is the distance between the rotating mirror MR and fixed mirror MF, and\n",
      "        Ds' is the displacement of the image point when rotating mirror is rotating relative to the  position of the image point when the rotating mirror is stationary, as viewed through the microscope. \n",
      "\n",
      "         \n",
      "\n",
      "    By rotating the mirror first in one direction and then in the opposite direction, the total beam deflection is doubled, thereby doubling the accuracy of the measurement. Under these conditions, the equation (1) becomes\n",
      "\n",
      "      \t(2)\n",
      "\n",
      "         \n",
      "\n",
      "        where wCW and wCCW  are expressed in revolutions per second.\n",
      "         \n",
      "   "
     ]
    },
    {
     "cell_type": "heading",
     "level": 4,
     "metadata": {},
     "source": [
      " b. Model. "
     ]
    },
    {
     "cell_type": "raw",
     "metadata": {},
     "source": [
      "   The general expressions for the position of an object undergoing two-dimensional motion with constant acceleration are\n",
      "\n",
      "    x = x0 + v0xt + (1/2)axt2\n",
      "\n",
      "    y = y0 + v0yt + (1/2)ayt2\n",
      "\n",
      "        where\n",
      "        (x,y) is the position of the object at time t,\n",
      "        (x0,y0) is the initial position of the object (at time t = 0),\n",
      "        v0x and v0y are the x and y components of initial velocity of the object, and\n",
      "        ax and ay are the x and y components of the constant acceleration of the object.\n",
      "\n",
      "    For the case of a object set in motion near the surface of the Earth over short ranges and neglecting the effects of air resistance, the general expressions become\n",
      "\n",
      "    x = x0 + v0xt\n",
      "\n",
      "    y = y0 + v0yt - (1/2)gt2\n",
      "\n",
      "\n",
      "\n",
      "        where\n",
      "        x is the position measured along an axis horizontal to the ground in the plane of the trajectory,\n",
      "        y is the position measured along an vertical axis in the plane of the trajectory, and\n",
      "        g is the local value of the acceleration due to gravity. \n",
      "\n",
      "    The minus sign in the equation reflects the selection of the direction away from the center of the Earth as positive. The origin of the coordinate system is at the surface of the Earth.\n",
      "\n",
      "    Since the position of the object along the vertical axis at the time the object strikes the ground is zero (y = 0), the y-equation above can be solved for the time of flight of the projectile. This time can then be substituted into the x-equation to find the range of the projectile (the displacement along the x-axis to the point where the object strikes the ground).\n",
      "\n",
      "    The initial position of the projectile can be measured using a meter stick. The initial velocity will be determined by measuring the range when the projectile is given a purely horizontal initial velocity (vy0 = 0) by first solving for the time of flight in the y-equation and then substituting into the x-equation. If the projectile is then launched at some angle above the horizontal, the initial velocity of the projectile measured with the launcher horizontal can be used with the angle of inclination to predict the new range of the projectile using the same equations, but with\n",
      "\n",
      "    v0x = v0 cosq\n",
      "\n",
      "    v0y = v0 sinq\n",
      "\n",
      "        where\n",
      "        v0 is the initial speed measured with the launcher horizontal, and\n",
      "        q is the angle of inclination.\n",
      "\n",
      "    "
     ]
    },
    {
     "cell_type": "heading",
     "level": 4,
     "metadata": {},
     "source": [
      "c. Testing the model. "
     ]
    },
    {
     "cell_type": "raw",
     "metadata": {},
     "source": [
      "    The predicted range will be compared to the actual range measured with a meter stick."
     ]
    },
    {
     "cell_type": "heading",
     "level": 3,
     "metadata": {},
     "source": [
      " Apparatus and experimental procedures."
     ]
    },
    {
     "cell_type": "heading",
     "level": 4,
     "metadata": {},
     "source": [
      " a. Equipment."
     ]
    },
    {
     "cell_type": "raw",
     "metadata": {},
     "source": [
      "\n",
      "\n",
      "    1) High speed rotating mirror assembly.\n",
      "\n",
      "    2) Fixed mirror.\n",
      "\n",
      "    3) Measuring microscope.\n",
      "\n",
      "    4) He-Ne laser.\n",
      "\n",
      "    5) Optics bench.\n",
      "\n",
      "    6) Laser alignment bench with bench couplers.\n",
      "\n",
      "    7) 48 and 252 mm lenses.\n",
      "\n",
      "    8) Calibrated polarizers (2).\n",
      "\n",
      "    9) Component holders (3).\n",
      "\n",
      "    10) Alignment jigs (2).\n",
      "\n",
      "    11) Measuring tape.\n"
     ]
    },
    {
     "cell_type": "heading",
     "level": 4,
     "metadata": {},
     "source": [
      "b. Experimental setup.  To be provided by the student."
     ]
    },
    {
     "cell_type": "heading",
     "level": 3,
     "metadata": {},
     "source": [
      "Capabilities."
     ]
    },
    {
     "cell_type": "raw",
     "metadata": {},
     "source": [
      "\n",
      "To be provided by a student."
     ]
    },
    {
     "cell_type": "heading",
     "level": 3,
     "metadata": {},
     "source": [
      "Requirements."
     ]
    },
    {
     "cell_type": "heading",
     "level": 4,
     "metadata": {},
     "source": [
      "a. In the laboratory."
     ]
    },
    {
     "cell_type": "raw",
     "metadata": {},
     "source": [
      "\n",
      "    \n",
      "\n",
      "    1) Your instructor will introduce you to the equipment to be used in the experiment and help you to set up and align the equipment.\n",
      "\n",
      "    2) Record the position of rotating mirror and lenses on the optics bench.\n",
      "\n",
      "    3) Measure the distance between rotating and fixed mirrors.\n",
      "\n",
      "    4) Switch the rotating mirror power supply to CW, turn the motor on and let it warm up at about 600 rev/s for at least 3 minutes.\n",
      "\n",
      "    5) Bring the speed of rotation to about 1000 rev/s and use the microscope to measure the deflection. Record the speed at which the motor is running and micrometer reading. Turn off the motor and let it cool off for about a minute.\n",
      "\n",
      "    6) Switch the direction of rotation to CCW.  Turn the motor on and repeat your measurements in step 5.\n",
      "\n",
      "    7) Repeat the measurements in steps 5 and 6 two more times. \n",
      "\n",
      "\n",
      "\n",
      "\n",
      "  "
     ]
    },
    {
     "cell_type": "heading",
     "level": 4,
     "metadata": {},
     "source": [
      "b. After the laboratory.  "
     ]
    },
    {
     "cell_type": "raw",
     "metadata": {},
     "source": [
      " The items listed below will be turned in at the beginning of the next laboratory period. A complete laboratory report is not required for this laboratory. Use the ExcelTM spreadsheet program to make your calculations."
     ]
    },
    {
     "cell_type": "heading",
     "level": 3,
     "metadata": {},
     "source": [
      "Para. 4. Data and Calculations."
     ]
    },
    {
     "cell_type": "raw",
     "metadata": {},
     "source": [
      "\n",
      "\n",
      "Para 3. Apparatus and experimental procedures.\n",
      "\n",
      "    1) Provide a figure of the experimental apparatus (para 3b).\n",
      "\n",
      "    2) Provide descriptions of the capabilities of equipment used in the experiment (para 3c).\n",
      "\n",
      "Para 4. Data. Data tables are included at Annex A for recording measurements taken in the laboratory. A copy of these tables must be included with the lab report. Provide the items listed below in your report in the form a Microsoft ExcelTM spreadsheet showing data, calculations and graphs. The spreadsheet will include:\n",
      "\n",
      "    1) Recorded positions of rotating mirror and two lenses.\n",
      "\n",
      "    2) Focal lengths of two lenses.\n",
      "\n",
      "    3) Measured value of the distance between fixed and rotating mirrors.\n",
      "\n",
      "    4) Calculation of the parameters A and B.\n",
      "\n",
      "    5) Table which includes the speeds of rotation for both clockwise and counterclockwise directions with corresponding deflections.\n",
      "\n",
      "    6) Calculation of the speed of light.\n",
      "\n",
      "    7) Calculation of the percent discrepancy in the speed of light. Your instructor will provide the actual value.\n",
      "\n",
      "   "
     ]
    },
    {
     "cell_type": "raw",
     "metadata": {},
     "source": [
      "Annex A\n",
      "Data Tables\n",
      "\n",
      "1. Position of Lens 1.\n",
      "\n",
      " \n",
      "\n",
      "                                     L1 = _________________________________ m\n",
      "\n",
      "2. Position of Lens 2.\n",
      "\n",
      " \n",
      "\n",
      "                                     L2 = _________________________________ m\n",
      "\n",
      "3. Position of Rotating Mirror.\n",
      "\n",
      " \n",
      "\n",
      "                                     MR = _________________________________ m\n",
      "\n",
      " \n",
      "\n",
      "4. Distance between Rotating and Fixed Mirrors.\n",
      "\n",
      " \n",
      "\n",
      "                                      D = _________________________________ m\n",
      "\n",
      " \n",
      "\n",
      "5. Deflection Measurements.\n",
      "\n",
      "Trial\n",
      "\t\n",
      "\n",
      "wcw (rev/s)\n",
      "\t\n",
      "\n",
      "s'cw (m)\n",
      "\t\n",
      "\n",
      "wccw (rev/s)\n",
      "\t\n",
      "\n",
      "s'ccw (m)\n",
      "\n",
      "1\n",
      "\t\n",
      "\n",
      " \n",
      "\t\n",
      "\n",
      " \n",
      "\t\n",
      "\n",
      " \n",
      "\t\n",
      "\n",
      " \n",
      "\n",
      "2\n",
      "\t\n",
      "\n",
      " \n",
      "\t\n",
      "\n",
      " \n",
      "\t\n",
      "\n",
      " \n",
      "\t\n",
      "\n",
      " \n",
      "\n",
      "3\n",
      "\t\n",
      "\n",
      " \n",
      "\t\n",
      "\n",
      " \n",
      "\t\n",
      "\n",
      " \n",
      "\t\n",
      "\n",
      " \n",
      "\n",
      " \n",
      "\n"
     ]
    },
    {
     "cell_type": "code",
     "collapsed": false,
     "input": [
      "import \n",
      "import math\n",
      "import matplotlib\n",
      "import numpy as np\n",
      "import matplotlib.pyplot as plt\n",
      "%matplotlib inline  "
     ],
     "language": "python",
     "metadata": {},
     "outputs": [
      {
       "ename": "ImportError",
       "evalue": "No module named Markup",
       "output_type": "pyerr",
       "traceback": [
        "\u001b[0;31m---------------------------------------------------------------------------\u001b[0m\n\u001b[0;31mImportError\u001b[0m                               Traceback (most recent call last)",
        "\u001b[0;32m<ipython-input-6-abf6f5086397>\u001b[0m in \u001b[0;36m<module>\u001b[0;34m()\u001b[0m\n\u001b[0;32m----> 1\u001b[0;31m \u001b[0;32mimport\u001b[0m \u001b[0mMarkup\u001b[0m\u001b[0;34m\u001b[0m\u001b[0m\n\u001b[0m\u001b[1;32m      2\u001b[0m \u001b[0;32mimport\u001b[0m \u001b[0mmath\u001b[0m\u001b[0;34m\u001b[0m\u001b[0m\n\u001b[1;32m      3\u001b[0m \u001b[0;32mimport\u001b[0m \u001b[0mmatplotlib\u001b[0m\u001b[0;34m\u001b[0m\u001b[0m\n\u001b[1;32m      4\u001b[0m \u001b[0;32mimport\u001b[0m \u001b[0mnumpy\u001b[0m \u001b[0;32mas\u001b[0m \u001b[0mnp\u001b[0m\u001b[0;34m\u001b[0m\u001b[0m\n\u001b[1;32m      5\u001b[0m \u001b[0;32mimport\u001b[0m \u001b[0mmatplotlib\u001b[0m\u001b[0;34m.\u001b[0m\u001b[0mpyplot\u001b[0m \u001b[0;32mas\u001b[0m \u001b[0mplt\u001b[0m\u001b[0;34m\u001b[0m\u001b[0m\n",
        "\u001b[0;31mImportError\u001b[0m: No module named Markup"
       ]
      }
     ],
     "prompt_number": 6
    },
    {
     "cell_type": "code",
     "collapsed": false,
     "input": [
      "class ListTable(list):\n",
      "    \"\"\" Overridden list class which takes a 2-dimensional list of \n",
      "        the form [[1,2,3],[4,5,6]], and renders an HTML Table in \n",
      "        IPython Notebook. \"\"\"\n",
      "    \n",
      "    def _repr_html_(self):\n",
      "        html = [\"<table>\"]\n",
      "        for row in self:\n",
      "            html.append(\"<tr>\")\n",
      "            \n",
      "            for col in row:\n",
      "                html.append(\"<td>{0}</td>\".format(col))\n",
      "            \n",
      "            html.append(\"</tr>\")\n",
      "        html.append(\"</table>\")\n",
      "        return ''.join(html)\n",
      "table = ListTable()\n",
      "table.append(['trial', 'Range'])\n",
      "table.append(['   ', '(m)'])\n",
      "trial=[1,2,3,4,5]\n",
      "x = [0.95,0.96,0.95,0.96,0.99]\n",
      "y=0.0\n",
      "for i in range(0,len(x)):\n",
      "    xx = x[i]\n",
      "    ttrial = trial[i]\n",
      "    table.append([ttrial,xx])\n",
      "table    "
     ],
     "language": "python",
     "metadata": {},
     "outputs": [
      {
       "html": [
        "<table><tr><td>trial</td><td>Range</td></tr><tr><td>   </td><td>(m)</td></tr><tr><td>1</td><td>0.95</td></tr><tr><td>2</td><td>0.96</td></tr><tr><td>3</td><td>0.95</td></tr><tr><td>4</td><td>0.96</td></tr><tr><td>5</td><td>0.99</td></tr></table>"
       ],
       "metadata": {},
       "output_type": "pyout",
       "prompt_number": 27,
       "text": [
        "[['trial', 'Range'],\n",
        " ['   ', '(m)'],\n",
        " [1, 0.95],\n",
        " [2, 0.96],\n",
        " [3, 0.95],\n",
        " [4, 0.96],\n",
        " [5, 0.99]]"
       ]
      }
     ],
     "prompt_number": 27
    },
    {
     "cell_type": "code",
     "collapsed": false,
     "input": [
      "x0 = 0\n",
      "y0 = 0.09\n",
      "g=9.8\n",
      "x = [0.90,0.902,0.89,0.895,0.85]\n",
      "y = 0\n",
      "for i in range(0,len(x)):\n",
      "    y = y+x[i] \n",
      "xaverage = y/len(x)\n",
      "print 'xaverage =', xaverage, 'm'\n",
      "t=((2*y0)/g)**0.5\n",
      "print 't = ', t , 's'\n",
      "v0=xaverage/t\n",
      "print 'v0 = ', v0, 'm/s'\n"
     ],
     "language": "python",
     "metadata": {},
     "outputs": [
      {
       "output_type": "stream",
       "stream": "stdout",
       "text": [
        "xaverage = 0.8874 m\n",
        "t =  0.135526185436 s\n",
        "v0 =  6.54781212314 m/s\n"
       ]
      }
     ],
     "prompt_number": 54
    },
    {
     "cell_type": "code",
     "collapsed": false,
     "input": [
      "rise = 0.035\n",
      "hypotenuse = 0.4\n",
      "theta = math.atan(rise/hypotenuse)\n",
      "print 'theta=', theta"
     ],
     "language": "python",
     "metadata": {},
     "outputs": [
      {
       "output_type": "stream",
       "stream": "stdout",
       "text": [
        "theta= 0.0872777129495\n"
       ]
      }
     ],
     "prompt_number": 49
    },
    {
     "cell_type": "code",
     "collapsed": false,
     "input": [
      "table = ListTable()\n",
      "able = ListTable()\n",
      "table.append(['trial', 'Range'])\n",
      "table.append(['   ', '(m)'])\n",
      "trial=[1,2,3,4,5]\n",
      "x = [1.10,1.08,1.07,1.09,1.10]\n",
      "for i in range(0,len(x)):\n",
      "    xx = x[i] \n",
      "    ttrial = trial[i]\n",
      "    table.append([ttrial, xx])\n",
      "table    "
     ],
     "language": "python",
     "metadata": {},
     "outputs": [
      {
       "html": [
        "<table><tr><td>trial</td><td>Range</td></tr><tr><td>   </td><td>(m)</td></tr><tr><td>1</td><td>1.1</td></tr><tr><td>2</td><td>1.08</td></tr><tr><td>3</td><td>1.07</td></tr><tr><td>4</td><td>1.09</td></tr><tr><td>5</td><td>1.1</td></tr></table>"
       ],
       "metadata": {},
       "output_type": "pyout",
       "prompt_number": 39,
       "text": [
        "[['trial', 'Range'],\n",
        " ['   ', '(m)'],\n",
        " [1, 1.1],\n",
        " [2, 1.08],\n",
        " [3, 1.07],\n",
        " [4, 1.09],\n",
        " [5, 1.1]]"
       ]
      }
     ],
     "prompt_number": 39
    },
    {
     "cell_type": "code",
     "collapsed": false,
     "input": [
      "x0 = 0 \n",
      "y0 = 0.11\n",
      "y = 0\n",
      "for i in range(0,len(x)):\n",
      "    y = y+x[i] \n",
      "xaverage = y/len(x)\n",
      "print 'xaverage =', xaverage, 'm'\n",
      "t=(v0*math.sin(theta)+(v0*math.sin(theta)+2*g*y0)**0.5)/g\n",
      "print 't = ', t , 's'\n",
      "r = v0*math.cos(theta)*t \n",
      "print 'range = ', r, 's'\n",
      "Disc= (xaverage-r)/r*100\n",
      "print '%Disc = ', Disc"
     ],
     "language": "python",
     "metadata": {},
     "outputs": [
      {
       "output_type": "stream",
       "stream": "stdout",
       "text": [
        "5.44\n",
        "5\n",
        "xaverage = 1.088 m\n",
        "t =  0.233110895711 s\n",
        "range =  1.64838338729 s\n",
        "%Disc =  -33.9959375719\n"
       ]
      }
     ],
     "prompt_number": 43
    },
    {
     "cell_type": "heading",
     "level": 3,
     "metadata": {},
     "source": [
      "\n",
      "Para. 5. Results and Conclusions."
     ]
    },
    {
     "cell_type": "heading",
     "level": 4,
     "metadata": {},
     "source": [
      "a. Results."
     ]
    },
    {
     "cell_type": "raw",
     "metadata": {},
     "source": [
      "   1) A statement of the measured value for the speed of light.\n",
      "\n",
      "   2) A statement of the percent discrepancy in the speed of light.\n"
     ]
    },
    {
     "cell_type": "heading",
     "level": 4,
     "metadata": {},
     "source": [
      "\n",
      "b. Conclusions.\n"
     ]
    },
    {
     "cell_type": "raw",
     "metadata": {},
     "source": [
      "    1) Assess the accuracy of your experiment. \n",
      "\n",
      "    2) Describe the sources of error in the experiment."
     ]
    },
    {
     "cell_type": "code",
     "collapsed": false,
     "input": [],
     "language": "python",
     "metadata": {},
     "outputs": []
    }
   ],
   "metadata": {}
  }
 ]
}