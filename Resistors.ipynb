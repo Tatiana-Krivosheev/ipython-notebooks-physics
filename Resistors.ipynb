{
 "metadata": {
  "name": "",
  "signature": "sha256:94255d452ff772fed29ce0ee3632370009dc92d4e4c3c54198621f4cbc440888"
 },
 "nbformat": 3,
 "nbformat_minor": 0,
 "worksheets": [
  {
   "cells": [
    {
     "cell_type": "heading",
     "level": 1,
     "metadata": {},
     "source": [
      "PHYS 2212 - Introductory Physics II\n"
     ]
    },
    {
     "cell_type": "heading",
     "level": 2,
     "metadata": {},
     "source": [
      "Resistors"
     ]
    },
    {
     "cell_type": "heading",
     "level": 3,
     "metadata": {},
     "source": [
      "Name: Tatiana Krivosheev"
     ]
    },
    {
     "cell_type": "heading",
     "level": 3,
     "metadata": {},
     "source": [
      "Partners: Oleg Krivosheev"
     ]
    },
    {
     "cell_type": "heading",
     "level": 4,
     "metadata": {},
     "source": [
      "Annex A"
     ]
    },
    {
     "cell_type": "code",
     "collapsed": false,
     "input": [
      "import matplotlib\n",
      "import numpy as np\n",
      "import matplotlib.pyplot as plt\n",
      "%matplotlib inline  "
     ],
     "language": "python",
     "metadata": {},
     "outputs": [],
     "prompt_number": 1
    },
    {
     "cell_type": "heading",
     "level": 4,
     "metadata": {},
     "source": [
      "1. Wire resistance linearity test"
     ]
    },
    {
     "cell_type": "code",
     "collapsed": false,
     "input": [
      "class ListTable(list):\n",
      "    \"\"\" Overridden list class which takes a 2-dimensional list of \n",
      "        the form [[1,2,3],[4,5,6]], and renders an HTML Table in \n",
      "        IPython Notebook. \"\"\"\n",
      "    \n",
      "    def _repr_html_(self):\n",
      "        html = [\"<table>\"]\n",
      "        for row in self:\n",
      "            html.append(\"<tr>\")\n",
      "            \n",
      "            for col in row:\n",
      "                html.append(\"<td>{0}</td>\".format(col))\n",
      "            \n",
      "            html.append(\"</tr>\")\n",
      "        html.append(\"</table>\")\n",
      "        return ''.join(html)\n",
      "table = ListTable()\n",
      "table.append(['position', 'voltage'])\n",
      "table.append(['(cm)', '(V)'])\n",
      "x = [7,10,15,20,25,30,35, 40, 45, 50, 55, 60, 65, 70, 75, 80, 85, 90, 95]\n",
      "y= [0.228,0.298,0.441,0.568,0.697,0.826,0.956, 1.084, 1.211, 1.339,1.468, 1.599, 1.728, 1.851, 1.982, 2.115, 2.244, 2.375, 2.502]\n",
      "for i in range(0,len(x)):\n",
      "    xx = x[i]\n",
      "    yy = y[i]\n",
      "    table.append([xx, yy])\n",
      "table    "
     ],
     "language": "python",
     "metadata": {},
     "outputs": [
      {
       "html": [
        "<table><tr><td>position</td><td>voltage</td></tr><tr><td>(cm)</td><td>(V)</td></tr><tr><td>7</td><td>0.228</td></tr><tr><td>10</td><td>0.298</td></tr><tr><td>15</td><td>0.441</td></tr><tr><td>20</td><td>0.568</td></tr><tr><td>25</td><td>0.697</td></tr><tr><td>30</td><td>0.826</td></tr><tr><td>35</td><td>0.956</td></tr><tr><td>40</td><td>1.084</td></tr><tr><td>45</td><td>1.211</td></tr><tr><td>50</td><td>1.339</td></tr><tr><td>55</td><td>1.468</td></tr><tr><td>60</td><td>1.599</td></tr><tr><td>65</td><td>1.728</td></tr><tr><td>70</td><td>1.851</td></tr><tr><td>75</td><td>1.982</td></tr><tr><td>80</td><td>2.115</td></tr><tr><td>85</td><td>2.244</td></tr><tr><td>90</td><td>2.375</td></tr><tr><td>95</td><td>2.502</td></tr></table>"
       ],
       "metadata": {},
       "output_type": "pyout",
       "prompt_number": 2,
       "text": [
        "[['position', 'voltage'],\n",
        " ['(cm)', '(V)'],\n",
        " [7, 0.228],\n",
        " [10, 0.298],\n",
        " [15, 0.441],\n",
        " [20, 0.568],\n",
        " [25, 0.697],\n",
        " [30, 0.826],\n",
        " [35, 0.956],\n",
        " [40, 1.084],\n",
        " [45, 1.211],\n",
        " [50, 1.339],\n",
        " [55, 1.468],\n",
        " [60, 1.599],\n",
        " [65, 1.728],\n",
        " [70, 1.851],\n",
        " [75, 1.982],\n",
        " [80, 2.115],\n",
        " [85, 2.244],\n",
        " [90, 2.375],\n",
        " [95, 2.502]]"
       ]
      }
     ],
     "prompt_number": 2
    },
    {
     "cell_type": "code",
     "collapsed": false,
     "input": [
      "# code below demonstrates...\n",
      "\n",
      "import numpy as np\n",
      "x = [7,10,15,20,25,30,35, 40, 45, 50, 55, 60, 65, 70, 75, 80, 85, 90, 95]\n",
      "y= [0.228,0.298,0.441,0.568,0.697,0.826,0.956, 1.084, 1.211, 1.339,1.468, 1.599, 1.728, 1.851, 1.982, 2.115, 2.244, 2.375, 2.502]\n",
      "plt.scatter(x, y)\n",
      "plt.title('Linearity test')\n",
      "plt. xlabel('Length (cm)')\n",
      "plt. ylabel('Voltage (V)')\n",
      "fit = np.polyfit(x,y,1)\n",
      "fit_fn = np.poly1d(fit)\n",
      "plt.plot(x,y, 'yo', x, fit_fn(x), '--k')\n",
      "m,b = np.polyfit(x, y, 1)\n",
      "print ('m={0}'.format(m))\n",
      "print ('b={0}'.format(b))\n",
      "plt.show()"
     ],
     "language": "python",
     "metadata": {},
     "outputs": [
      {
       "output_type": "stream",
       "stream": "stdout",
       "text": [
        "m=0.0258164673413\n",
        "b=0.0491959521619\n"
       ]
      },
      {
       "metadata": {},
       "output_type": "display_data",
       "png": "[encoded data removed]",
       "text": [
        "<matplotlib.figure.Figure at 0x7f2c30e8fc10>"
       ]
      }
     ],
     "prompt_number": 3
    },
    {
     "cell_type": "heading",
     "level": 4,
     "metadata": {},
     "source": [
      "2. Wheatstone bridge measurements"
     ]
    },
    {
     "cell_type": "code",
     "collapsed": false,
     "input": [
      "Rk = 3.5 # kOhms\n",
      "table = ListTable()\n",
      "table.append(['Ru', 'Ru, acc', 'L1', 'L2', 'Ru, wheatstone', 'Disc'])\n",
      "table.append(['(kOhms)', '(kOhms)', '(cm)', '(cm)', '(kOhms)', ' % '])\n",
      "x = [0.470,0.680,1.000, 1.500]\n",
      "y= [0.512,0.712,1.131,1.590]\n",
      "z= [88.65, 84.50, 76.90, 69.80]\n",
      "for i in range(0,len(x)):\n",
      "    xx = x[i]\n",
      "    yy = y[i]\n",
      "    zz = z[i]\n",
      "    Rw = (100.0 - zz)/zz*Rk\n",
      "    Disc = (Rw-yy)/yy*100.0\n",
      "    table.append([xx, yy, zz, 100.0-zz,Rw, Disc])\n",
      "table    "
     ],
     "language": "python",
     "metadata": {},
     "outputs": [
      {
       "html": [
        "<table><tr><td>Ru</td><td>Ru, acc</td><td>L1</td><td>L2</td><td>Ru, wheatstone</td><td>Disc</td></tr><tr><td>(kOhms)</td><td>(kOhms)</td><td>(cm)</td><td>(cm)</td><td>(kOhms)</td><td> % </td></tr><tr><td>0.47</td><td>0.512</td><td>88.65</td><td>11.35</td><td>0.448110547095</td><td>-12.4784087704</td></tr><tr><td>0.68</td><td>0.712</td><td>84.5</td><td>15.5</td><td>0.64201183432</td><td>-9.82979855063</td></tr><tr><td>1.0</td><td>1.131</td><td>76.9</td><td>23.1</td><td>1.05136540962</td><td>-7.04107784059</td></tr><tr><td>1.5</td><td>1.59</td><td>69.8</td><td>30.2</td><td>1.51432664756</td><td>-4.75933034186</td></tr></table>"
       ],
       "metadata": {},
       "output_type": "pyout",
       "prompt_number": 4,
       "text": [
        "[['Ru', 'Ru, acc', 'L1', 'L2', 'Ru, wheatstone', 'Disc'],\n",
        " ['(kOhms)', '(kOhms)', '(cm)', '(cm)', '(kOhms)', ' % '],\n",
        " [0.47,\n",
        "  0.512,\n",
        "  88.65,\n",
        "  11.349999999999994,\n",
        "  0.4481105470953184,\n",
        "  -12.478408770445629],\n",
        " [0.68, 0.712, 84.5, 15.5, 0.6420118343195266, -9.829798550628285],\n",
        " [1.0, 1.131, 76.9, 23.099999999999994, 1.0513654096228864, -7.0410778405936],\n",
        " [1.5, 1.59, 69.8, 30.200000000000003, 1.51432664756447, -4.759330341857231]]"
       ]
      }
     ],
     "prompt_number": 4
    },
    {
     "cell_type": "code",
     "collapsed": false,
     "input": [
      "plt.scatter(x, y)\n",
      "plt.title('Linearity test')\n",
      "plt. xlabel('Length (cm)')\n",
      "plt. ylabel('Voltage (V)')\n",
      "fit = np.polyfit(x,y,1)\n",
      "fit_fn = np.poly1d(fit)\n",
      "plt.plot(x,y, 'yo', x, fit_fn(x), '--k')\n",
      "m,b = np.polyfit(x, y, 1)\n",
      "print ('m={0}'.format(m))\n",
      "print ('b={0}'.format(b))\n",
      "plt.show()"
     ],
     "language": "python",
     "metadata": {},
     "outputs": [
      {
       "output_type": "stream",
       "stream": "stdout",
       "text": [
        "m=1.06357074709\n",
        "b=0.0157416932841\n"
       ]
      },
      {
       "metadata": {},
       "output_type": "display_data",
       "png": "[encoded data removed]",
       "text": [
        "<matplotlib.figure.Figure at 0x7f2c30fe9f90>"
       ]
      }
     ],
     "prompt_number": 5
    },
    {
     "cell_type": "code",
     "collapsed": false,
     "input": [],
     "language": "python",
     "metadata": {},
     "outputs": []
    }
   ],
   "metadata": {}
  }
 ]
}