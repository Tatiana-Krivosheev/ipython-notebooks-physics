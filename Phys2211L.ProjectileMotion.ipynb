{
 "metadata": {
  "name": "",
  "signature": "sha256:b31a218e0dbf5977a5ba3bdb5a91d6341180809eff45afb943793f25e5db0d5f"
 },
 "nbformat": 3,
 "nbformat_minor": 0,
 "worksheets": [
  {
   "cells": [
    {
     "cell_type": "heading",
     "level": 1,
     "metadata": {},
     "source": [
      "PHYS 2211L - Introductory Physics Laboratory I\n"
     ]
    },
    {
     "cell_type": "heading",
     "level": 1,
     "metadata": {},
     "source": [
      "Projectile Motion Laboratory"
     ]
    },
    {
     "cell_type": "heading",
     "level": 3,
     "metadata": {},
     "source": [
      "Objective. "
     ]
    },
    {
     "cell_type": "raw",
     "metadata": {},
     "source": [
      "The objective of this laboratory is to predict the range of a projectile set in motion at an arbitrary angle."
     ]
    },
    {
     "cell_type": "heading",
     "level": 3,
     "metadata": {},
     "source": [
      "Theory."
     ]
    },
    {
     "cell_type": "heading",
     "level": 4,
     "metadata": {},
     "source": [
      " a. General. "
     ]
    },
    {
     "cell_type": "raw",
     "metadata": {},
     "source": [
      "\n",
      "   Neglecting air resistance, an object set in motion near the surface of the Earth over short ranges experiences no acceleration along the horizontal direction and constant acceleration due to gravity along the vertical direction. The range can be predicted if the initial position and initial velocity of the projectile are known.\n",
      "\n",
      "   "
     ]
    },
    {
     "cell_type": "heading",
     "level": 4,
     "metadata": {},
     "source": [
      " b. Model. "
     ]
    },
    {
     "cell_type": "raw",
     "metadata": {},
     "source": [
      "   The general expressions for the position of an object undergoing two-dimensional motion with constant acceleration are\n",
      "\n",
      "    x = x0 + v0xt + (1/2)axt2\n",
      "\n",
      "    y = y0 + v0yt + (1/2)ayt2\n",
      "\n",
      "        where\n",
      "        (x,y) is the position of the object at time t,\n",
      "        (x0,y0) is the initial position of the object (at time t = 0),\n",
      "        v0x and v0y are the x and y components of initial velocity of the object, and\n",
      "        ax and ay are the x and y components of the constant acceleration of the object.\n",
      "\n",
      "    For the case of a object set in motion near the surface of the Earth over short ranges and neglecting the effects of air resistance, the general expressions become\n",
      "\n",
      "    x = x0 + v0xt\n",
      "\n",
      "    y = y0 + v0yt - (1/2)gt2\n",
      "\n",
      "\n",
      "\n",
      "        where\n",
      "        x is the position measured along an axis horizontal to the ground in the plane of the trajectory,\n",
      "        y is the position measured along an vertical axis in the plane of the trajectory, and\n",
      "        g is the local value of the acceleration due to gravity. \n",
      "\n",
      "    The minus sign in the equation reflects the selection of the direction away from the center of the Earth as positive. The origin of the coordinate system is at the surface of the Earth.\n",
      "\n",
      "    Since the position of the object along the vertical axis at the time the object strikes the ground is zero (y = 0), the y-equation above can be solved for the time of flight of the projectile. This time can then be substituted into the x-equation to find the range of the projectile (the displacement along the x-axis to the point where the object strikes the ground).\n",
      "\n",
      "    The initial position of the projectile can be measured using a meter stick. The initial velocity will be determined by measuring the range when the projectile is given a purely horizontal initial velocity (vy0 = 0) by first solving for the time of flight in the y-equation and then substituting into the x-equation. If the projectile is then launched at some angle above the horizontal, the initial velocity of the projectile measured with the launcher horizontal can be used with the angle of inclination to predict the new range of the projectile using the same equations, but with\n",
      "\n",
      "    v0x = v0 cosq\n",
      "\n",
      "    v0y = v0 sinq\n",
      "\n",
      "        where\n",
      "        v0 is the initial speed measured with the launcher horizontal, and\n",
      "        q is the angle of inclination.\n",
      "\n",
      "    "
     ]
    },
    {
     "cell_type": "heading",
     "level": 4,
     "metadata": {},
     "source": [
      "c. Testing the model. "
     ]
    },
    {
     "cell_type": "raw",
     "metadata": {},
     "source": [
      "    The predicted range will be compared to the actual range measured with a meter stick."
     ]
    },
    {
     "cell_type": "heading",
     "level": 3,
     "metadata": {},
     "source": [
      " Apparatus and experimental procedures."
     ]
    },
    {
     "cell_type": "heading",
     "level": 4,
     "metadata": {},
     "source": [
      " a. Equipment."
     ]
    },
    {
     "cell_type": "raw",
     "metadata": {},
     "source": [
      "\n",
      "        1) Ballistic pendulum apparatus.\n",
      "\n",
      "        2) Wood block.\n",
      "\n",
      "        3) Meter stick.\n",
      "\n",
      "        4) Carbon paper.\n"
     ]
    },
    {
     "cell_type": "heading",
     "level": 4,
     "metadata": {},
     "source": [
      "b. Experimental setup. The experimental setup for the experiment is shown in Figure 1."
     ]
    },
    {
     "cell_type": "raw",
     "metadata": {},
     "source": [
      "\n",
      "Figure 1. Experimental appartaus."
     ]
    },
    {
     "cell_type": "heading",
     "level": 3,
     "metadata": {},
     "source": [
      "Capabilities."
     ]
    },
    {
     "cell_type": "raw",
     "metadata": {},
     "source": [
      "\n",
      "\n",
      "    1) Ballistic pendulum apparatus. The ballistic pendulum apparatus includes a spring loaded gun that provides initial velocity to a metal ball projectile.\n",
      "\n",
      "    2) Wood block. The wood block is used to adjust the initial velocity's angle with respect to the horizontal.\n",
      "\n",
      "    3) Meter stick. The meter stick is used to measure initial positions of the projectile, the ranges of the projectile and the angle of the initial velocity.\n",
      "\n",
      "    4) Carbon paper. The carbon paper is used as the target for the projectile. When the projectile strikes the carbon paper, a mark will be left on a paper under the carbon, allowing measurement of the range to that mark."
     ]
    },
    {
     "cell_type": "heading",
     "level": 3,
     "metadata": {},
     "source": [
      "Requirements."
     ]
    },
    {
     "cell_type": "heading",
     "level": 4,
     "metadata": {},
     "source": [
      "a. In the laboratory."
     ]
    },
    {
     "cell_type": "raw",
     "metadata": {},
     "source": [
      "\n",
      "    \n",
      "\n",
      "        1) Your instructor will introduce you to the equipment to be used in the experiment.\n",
      "\n",
      "        2) Place the ballistic pendulum apparatus flat on a lab table so that the initial velocity of the ball will be in the horizontal direction only.\n",
      "\n",
      "        3) Establish a coordinate system and measure the initial position of the ball before it is set in motion. In a trial run, carefully note where the ball is released. Use the data tables provided in Annex A to record this and other data obtained in the experiment.\n",
      "\n",
      "        4) Using carbon paper to mark final position, perform five range trials with the initial velocity's direction parallel to the top of the lab table (make a trial shot to determine approximately where to place the carbon paper before the five trials). Find the average range of the projectile.\n",
      "\n",
      "        5) Place the wood block under the front edge of the ballistic pendulum. Determine the angle of the base of the ballistic pendulum with respect to the table top. This angle is also the angle of the initial velocity.\n",
      "\n",
      "        6) Measure the initial position of the ball before it is set in motion (it will not be the same as in the horizontally projected measurements).\n",
      "\n",
      "        7) Using carbon paper, perform five range trials with the ballistic pendulum at an angle (again, make a trial shot to determine where to place the carbon paper before the five trials).\n",
      "\n",
      "  "
     ]
    },
    {
     "cell_type": "heading",
     "level": 4,
     "metadata": {},
     "source": [
      "b. After the laboratory.  "
     ]
    },
    {
     "cell_type": "raw",
     "metadata": {},
     "source": [
      " The items listed below will be turned in at the beginning of the next laboratory period. A complete laboratory report is not required for this laboratory. Use the ExcelTM spreadsheet program to make your calculations."
     ]
    },
    {
     "cell_type": "heading",
     "level": 3,
     "metadata": {},
     "source": [
      "Para. 4. Data and Calculations."
     ]
    },
    {
     "cell_type": "raw",
     "metadata": {},
     "source": [
      "\n",
      "\n",
      "    1) Provide your original data tables.\n",
      "\n",
      "    2) In your spreadsheet, provide data from your measurements.\n",
      "\n",
      "    3) In your spreadsheet, provide the following calculations:\n",
      "\n",
      "        a) The initial velocity of the projectile from the horizontally projected data.\n",
      "\n",
      "        b) The angle of the initial velocity when the projectile is set in motion at an angle.\n",
      "\n",
      "        c) The predicted range of the projectile when set in motion at the angle of your experiment.\n",
      "\n",
      "        d) The percent discrepancy between your measured results and your predictions for the case when the projectile is set in motion at an angle."
     ]
    },
    {
     "cell_type": "raw",
     "metadata": {},
     "source": [
      "Annex A\n",
      "Data Tables\n",
      "\n",
      "1. Projectile with horizontal initial velocity.\n",
      "\n",
      "    a. Initial position of bottom of projectile at release:\n",
      "\n",
      "            x0 = ________________________ m\n",
      "\n",
      "            y0 = ________________________ m\n",
      "\n",
      "            Assuming y = 0 is at the top of the lab table.\n",
      "\n",
      "    b. Range:\n",
      "\n",
      "trial\n",
      "\t\n",
      "\n",
      "range (m)\n",
      "\n",
      "1\n",
      "\t \n",
      "\n",
      "2\n",
      "\t \n",
      "\n",
      "3\n",
      "\t \n",
      "\n",
      "4\n",
      "\t \n",
      "\n",
      "5\n",
      "\t \n",
      "\n",
      "average\n",
      "\t \n",
      "\n",
      " \n",
      "\n",
      "2. Projectile with initial velocity at an angle.\n",
      "\n",
      "    a. Angle determination.\n",
      "\n",
      "            rise = ________________________ m\n",
      "\n",
      "            hypotenuse = ________________________ m\n",
      "\n",
      "    b. Initial position of bottom of projectile at release:\n",
      "\n",
      "            x0 = ________________________ m\n",
      "\n",
      "            y0 = ________________________ m\n",
      "\n",
      "    c. Range:\n",
      "\n",
      "trial\n",
      "\t\n",
      "\n",
      "range (m)\n",
      "\n",
      "1\n",
      "\t \n",
      "\n",
      "2\n",
      "\t \n",
      "\n",
      "3\n",
      "\t \n",
      "\n",
      "4\n",
      "\t \n",
      "\n",
      "5\n",
      "\t \n",
      "\n",
      "average\n",
      "\t \n"
     ]
    },
    {
     "cell_type": "code",
     "collapsed": false,
     "input": [
      "import math\n",
      "import matplotlib\n",
      "import numpy as np\n",
      "import matplotlib.pyplot as plt\n",
      "%matplotlib inline  "
     ],
     "language": "python",
     "metadata": {},
     "outputs": [],
     "prompt_number": 32
    },
    {
     "cell_type": "code",
     "collapsed": false,
     "input": [
      "class ListTable(list):\n",
      "    \"\"\" Overridden list class which takes a 2-dimensional list of \n",
      "        the form [[1,2,3],[4,5,6]], and renders an HTML Table in \n",
      "        IPython Notebook. \"\"\"\n",
      "    \n",
      "    def _repr_html_(self):\n",
      "        html = [\"<table>\"]\n",
      "        for row in self:\n",
      "            html.append(\"<tr>\")\n",
      "            \n",
      "            for col in row:\n",
      "                html.append(\"<td>{0}</td>\".format(col))\n",
      "            \n",
      "            html.append(\"</tr>\")\n",
      "        html.append(\"</table>\")\n",
      "        return ''.join(html)\n",
      "table = ListTable()\n",
      "table.append(['trial', 'Range'])\n",
      "table.append(['   ', '(m)'])\n",
      "trial=[1,2,3,4,5]\n",
      "x = [0.95,0.96,0.95,0.96,0.99]\n",
      "y=0.0\n",
      "for i in range(0,len(x)):\n",
      "    xx = x[i]\n",
      "    ttrial = trial[i]\n",
      "    table.append([ttrial,xx])\n",
      "table    "
     ],
     "language": "python",
     "metadata": {},
     "outputs": [
      {
       "html": [
        "<table><tr><td>trial</td><td>Range</td></tr><tr><td>   </td><td>(m)</td></tr><tr><td>1</td><td>0.95</td></tr><tr><td>2</td><td>0.96</td></tr><tr><td>3</td><td>0.95</td></tr><tr><td>4</td><td>0.96</td></tr><tr><td>5</td><td>0.99</td></tr></table>"
       ],
       "metadata": {},
       "output_type": "pyout",
       "prompt_number": 27,
       "text": [
        "[['trial', 'Range'],\n",
        " ['   ', '(m)'],\n",
        " [1, 0.95],\n",
        " [2, 0.96],\n",
        " [3, 0.95],\n",
        " [4, 0.96],\n",
        " [5, 0.99]]"
       ]
      }
     ],
     "prompt_number": 27
    },
    {
     "cell_type": "code",
     "collapsed": false,
     "input": [
      "x0 = 0\n",
      "y0 = 0.09\n",
      "g=9.8\n",
      "x = [0.90,0.902,0.89,0.895,0.85]\n",
      "y = 0\n",
      "for i in range(0,len(x)):\n",
      "    y = y+x[i] \n",
      "xaverage = y/len(x)\n",
      "print 'xaverage =', xaverage, 'm'\n",
      "t=((2*y0)/g)**0.5\n",
      "print 't = ', t , 's'\n",
      "v0=xaverage/t\n",
      "print 'v0 = ', v0, 'm/s'\n"
     ],
     "language": "python",
     "metadata": {},
     "outputs": [
      {
       "output_type": "stream",
       "stream": "stdout",
       "text": [
        "xaverage = 0.8874 m\n",
        "t =  0.135526185436 s\n",
        "v0 =  6.54781212314 m/s\n"
       ]
      }
     ],
     "prompt_number": 54
    },
    {
     "cell_type": "code",
     "collapsed": false,
     "input": [
      "rise = 0.035\n",
      "hypotenuse = 0.4\n",
      "theta = math.atan(rise/hypotenuse)\n",
      "print 'theta=', theta"
     ],
     "language": "python",
     "metadata": {},
     "outputs": [
      {
       "output_type": "stream",
       "stream": "stdout",
       "text": [
        "theta= 0.0872777129495\n"
       ]
      }
     ],
     "prompt_number": 49
    },
    {
     "cell_type": "code",
     "collapsed": false,
     "input": [
      "table = ListTable()\n",
      "able = ListTable()\n",
      "table.append(['trial', 'Range'])\n",
      "table.append(['   ', '(m)'])\n",
      "trial=[1,2,3,4,5]\n",
      "x = [1.10,1.08,1.07,1.09,1.10]\n",
      "for i in range(0,len(x)):\n",
      "    xx = x[i] \n",
      "    ttrial = trial[i]\n",
      "    table.append([ttrial, xx])\n",
      "table    "
     ],
     "language": "python",
     "metadata": {},
     "outputs": [
      {
       "html": [
        "<table><tr><td>trial</td><td>Range</td></tr><tr><td>   </td><td>(m)</td></tr><tr><td>1</td><td>1.1</td></tr><tr><td>2</td><td>1.08</td></tr><tr><td>3</td><td>1.07</td></tr><tr><td>4</td><td>1.09</td></tr><tr><td>5</td><td>1.1</td></tr></table>"
       ],
       "metadata": {},
       "output_type": "pyout",
       "prompt_number": 39,
       "text": [
        "[['trial', 'Range'],\n",
        " ['   ', '(m)'],\n",
        " [1, 1.1],\n",
        " [2, 1.08],\n",
        " [3, 1.07],\n",
        " [4, 1.09],\n",
        " [5, 1.1]]"
       ]
      }
     ],
     "prompt_number": 39
    },
    {
     "cell_type": "code",
     "collapsed": false,
     "input": [
      "x0 = 0 \n",
      "y0 = 0.11\n",
      "y = 0\n",
      "for i in range(0,len(x)):\n",
      "    y = y+x[i] \n",
      "xaverage = y/len(x)\n",
      "print 'xaverage =', xaverage, 'm'\n",
      "t=(v0*math.sin(theta)+(v0*math.sin(theta)+2*g*y0)**0.5)/g\n",
      "print 't = ', t , 's'\n",
      "r = v0*math.cos(theta)*t \n",
      "print 'range = ', r, 's'\n",
      "Disc= (xaverage-r)/r*100\n",
      "print '%Disc = ', Disc"
     ],
     "language": "python",
     "metadata": {},
     "outputs": [
      {
       "output_type": "stream",
       "stream": "stdout",
       "text": [
        "5.44\n",
        "5\n",
        "xaverage = 1.088 m\n",
        "t =  0.233110895711 s\n",
        "range =  1.64838338729 s\n",
        "%Disc =  -33.9959375719\n"
       ]
      }
     ],
     "prompt_number": 43
    },
    {
     "cell_type": "heading",
     "level": 3,
     "metadata": {},
     "source": [
      "\n",
      "Para. 5. Results and Conclusions."
     ]
    },
    {
     "cell_type": "heading",
     "level": 4,
     "metadata": {},
     "source": [
      "a. Results."
     ]
    },
    {
     "cell_type": "raw",
     "metadata": {},
     "source": [
      "    1) A statement providing the measured value of the magnitude of the initial velocity.\n",
      "\n",
      "    2) A statement of the measured and predicted ranges when the projectile is set in motion at an angle.\n",
      "   \n",
      "    3) A statement providing the percent discrepancy in your results.\n"
     ]
    },
    {
     "cell_type": "heading",
     "level": 4,
     "metadata": {},
     "source": [
      "\n",
      "b. Conclusions.\n"
     ]
    },
    {
     "cell_type": "raw",
     "metadata": {},
     "source": [
      "    1) Assess the accuracy of your experiment.\n",
      "\n",
      "    2) Assess the precision of the experiment based on the variation in your measured ranges.\n",
      "\n",
      "    3) Describe sources of random and systematic error in the experiment."
     ]
    },
    {
     "cell_type": "code",
     "collapsed": false,
     "input": [],
     "language": "python",
     "metadata": {},
     "outputs": []
    }
   ],
   "metadata": {}
  }
 ]
}